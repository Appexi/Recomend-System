{
 "cells": [
  {
   "cell_type": "markdown",
   "metadata": {
    "id": "QovT45u4cpGF"
   },
   "source": [
    "# Recommendation System"
   ]
  },
  {
   "cell_type": "code",
   "execution_count": 1,
   "metadata": {
    "scrolled": true
   },
   "outputs": [
    {
     "name": "stdout",
     "output_type": "stream",
     "text": [
      "Количество фильмов, оставшихся после фильтрации: 4795\n"
     ]
    }
   ],
   "source": [
    "import pandas as pd\n",
    "\n",
    "df_credits = pd.read_csv('../datasets/tmdb_5000_credits.csv', low_memory=False)\n",
    "df_movies = pd.read_csv('../datasets/tmdb_5000_movies.csv', low_memory=False)\n",
    "\n",
    "#Объединяем df\n",
    "df = pd.merge(df_credits, df_movies, left_on='movie_id', right_on='id', how='outer')\n",
    "\n",
    "#Оставляем только фильмы, вышедшие в релиз.\n",
    "df = df[df.status == 'Released']\n",
    "print(f\"Количество фильмов, оставшихся после фильтрации: {df.shape[0]}\")"
   ]
  },
  {
   "cell_type": "code",
   "execution_count": 2,
   "metadata": {},
   "outputs": [],
   "source": [
    "# Функция расчёта рейтинга IMDB\n",
    "def weighted_rating(row):\n",
    "    v = row['vote_count']\n",
    "    r = row['vote_average']\n",
    "    wr = v / (v + m) * r + m / (v + m) * c\n",
    "    return wr"
   ]
  },
  {
   "cell_type": "code",
   "execution_count": 3,
   "metadata": {},
   "outputs": [
    {
     "name": "stdout",
     "output_type": "stream",
     "text": [
      "Топ-5 фильмов:\n",
      "The Shawshank Redemption, The Dark Knight, Fight Club, Inception, Pulp Fiction\n"
     ]
    }
   ],
   "source": [
    "# Cредняя оценка всех фильмов\n",
    "c = (df['vote_average']).mean()\n",
    "\n",
    "# Количество голосов для включения в финальную таблицу\n",
    "m = df['vote_count'].quantile (.95)\n",
    "\n",
    "# Запускаем функцию расчёта рейтинга IMDB для каждого фильма \n",
    "df['simple_score'] = df.apply(weighted_rating, axis=1)\n",
    "\n",
    "# Сортируем датафрейм по рейтингу\n",
    "df = df.sort_values(by = ['simple_score'], ascending=False)\n",
    "\n",
    "# Топ-5 фильмов по рейтингу\n",
    "top_5 = list(df[:5]['title_x'])\n",
    "\n",
    "print('Топ-5 фильмов:')\n",
    "print(*top_5, sep = ', ')"
   ]
  },
  {
   "cell_type": "code",
   "execution_count": 4,
   "metadata": {},
   "outputs": [
    {
     "name": "stdout",
     "output_type": "stream",
     "text": [
      "Размер матрицы Tf-Idf: (4795, 20970)\n"
     ]
    }
   ],
   "source": [
    "from sklearn.feature_extraction.text import TfidfVectorizer\n",
    "\n",
    "#Замена NaN на '' в столбце с описанием фильма\n",
    "df['overview'] = df['overview'].fillna('')\n",
    "\n",
    "# Исключение неинформотивных слов, редковстречающихся слов, небуквенных символов, привидение текста к нижнему регистру.\n",
    "# Векторизируем столбец с описанием фильма\n",
    "vectorizer = TfidfVectorizer(stop_words='english')\n",
    "tf_idf = vectorizer.fit_transform(df['overview'])\n",
    "\n",
    "print('Размер матрицы Tf-Idf:', tf_idf.shape)"
   ]
  },
  {
   "cell_type": "code",
   "execution_count": 5,
   "metadata": {},
   "outputs": [
    {
     "name": "stdout",
     "output_type": "stream",
     "text": [
      "Размер матрицы cosine_sim: (4795, 4795)\n"
     ]
    }
   ],
   "source": [
    "from sklearn.metrics.pairwise import linear_kernel\n",
    "\n",
    "# Оценка косинусного сходства\n",
    "cosine_sim = linear_kernel(tf_idf)\n",
    "\n",
    "print('Размер матрицы cosine_sim:', cosine_sim.shape)"
   ]
  },
  {
   "cell_type": "code",
   "execution_count": 6,
   "metadata": {},
   "outputs": [],
   "source": [
    "#Функция поиска схожих фильмов по описанию\n",
    "def get_recommendations(movies_dataset, title, cosine_sim, top_k=10):\n",
    "    \n",
    "    #Получаем индекс выбранного фильма\n",
    "    movie_index = movies_dataset[movies_dataset['title_x']==title].index[0]\n",
    "    \n",
    "    #Косинусное расстояние до выбранного фильма\n",
    "    distances = cosine_sim[movie_index]\n",
    "    \n",
    "    #Список фильмов отсортированный по сходству фильмов с выбранным фильмом\n",
    "    movies_list = sorted(list(enumerate(distances)), reverse=True, key=lambda x:x[1])[1:top_k+1]\n",
    "    \n",
    "    #Выводим названия фильмов наиболее похожих по описанию на выбранный фильм\n",
    "    for i in movies_list:\n",
    "        print(movies_dataset.iloc[i[0]].title_x)"
   ]
  },
  {
   "cell_type": "code",
   "execution_count": 7,
   "metadata": {},
   "outputs": [
    {
     "name": "stdout",
     "output_type": "stream",
     "text": [
      "The Great Raid\n",
      "The Monuments Men\n",
      "The Expendables 2\n",
      "Abandoned\n",
      "The Train\n"
     ]
    }
   ],
   "source": [
    "#Датасет с названием и описанием фильмов\n",
    "dataset = df[['title_x', 'overview']]\n",
    "#Сброс индекс, задаём список от 0\n",
    "dataset.reset_index(drop= True , inplace= True )\n",
    "\n",
    "#Заупскаем функцию поиска схожих фильмов по описанию для фильма Saving Private Ryan\n",
    "similar_films = get_recommendations(movies_dataset=dataset, title='Saving Private Ryan', cosine_sim=cosine_sim, top_k=5)"
   ]
  },
  {
   "cell_type": "code",
   "execution_count": 8,
   "metadata": {},
   "outputs": [],
   "source": [
    "# conda install -c conda-forge scikit-surprise - для установки библиотеки"
   ]
  },
  {
   "cell_type": "code",
   "execution_count": 9,
   "metadata": {},
   "outputs": [
    {
     "name": "stdout",
     "output_type": "stream",
     "text": [
      "Evaluating RMSE, MAE of algorithm SVD on 5 split(s).\n",
      "\n",
      "                  Fold 1  Fold 2  Fold 3  Fold 4  Fold 5  Mean    Std     \n",
      "RMSE (testset)    0.8959  0.8963  0.9013  0.8937  0.8995  0.8973  0.0027  \n",
      "MAE (testset)     0.6893  0.6895  0.6944  0.6901  0.6913  0.6909  0.0019  \n",
      "Fit time          0.89    0.90    0.91    0.91    0.92    0.91    0.01    \n",
      "Test time         0.18    0.11    0.10    0.18    0.11    0.14    0.03    \n",
      "\n",
      "Среднее значение 'RMSE': 0.8973\n",
      "Среднее значение 'MAE': 0.6909\n"
     ]
    }
   ],
   "source": [
    "import pandas as pd\n",
    "import numpy as np\n",
    "\n",
    "from surprise import Dataset, NormalPredictor, Reader, SVD\n",
    "from surprise.model_selection import cross_validate\n",
    "\n",
    "df_ratings = pd.read_csv('../datasets/ratings.csv', low_memory=False)\n",
    "\n",
    "\n",
    "# Шкала рейтинга (от 0 до 5)\n",
    "reader = Reader(rating_scale=(0, 5))\n",
    "\n",
    "# Загружаем датасет из dataframe pandas, указываем три столбца: id пользователя, id предмета оценки и оценка.\n",
    "data = Dataset.load_from_df(df_ratings[[\"userId\", \"movieId\", \"rating\"]], reader)\n",
    "\n",
    "# Используем SVD алгоритм (сингулярное разложении матриц).\n",
    "algo = SVD()\n",
    "\n",
    "# Запустим пятикратную перекрестную проверку и выведем результат.\n",
    "cross_valid = cross_validate(algo, data, measures=['RMSE', 'MAE'], cv=5, verbose=True)\n",
    "\n",
    "# RMSE - Root Mean Squared Error Среднеквадратичная ошибка\n",
    "# MAE - Mean Absolute Error Средняя абсолютная ошибка\n",
    "print(\"\\nСреднее значение 'RMSE':\", round(np.mean(cross_valid['test_rmse']), 4))\n",
    "print(\"Среднее значение 'MAE':\", round(np.mean(cross_valid['test_mae']), 4))"
   ]
  }
 ],
 "metadata": {
  "colab": {
   "provenance": [],
   "toc_visible": true
  },
  "kernelspec": {
   "display_name": "Python 3 (ipykernel)",
   "language": "python",
   "name": "python3"
  },
  "language_info": {
   "codemirror_mode": {
    "name": "ipython",
    "version": 3
   },
   "file_extension": ".py",
   "mimetype": "text/x-python",
   "name": "python",
   "nbconvert_exporter": "python",
   "pygments_lexer": "ipython3",
   "version": "3.11.3"
  }
 },
 "nbformat": 4,
 "nbformat_minor": 4
}
