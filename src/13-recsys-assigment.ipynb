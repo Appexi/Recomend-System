{
 "cells": [
  {
   "cell_type": "markdown",
   "metadata": {
    "id": "QovT45u4cpGF"
   },
   "source": [
    "# Recommendation System"
   ]
  },
  {
   "cell_type": "markdown",
   "metadata": {},
   "source": [
    "## Задание 1"
   ]
  },
  
  {
   "cell_type": "code",
   "execution_count": 1,
   "metadata": {
    "ExecuteTime": {
     "end_time": "2023-07-22T14:20:04.771662700Z",
     "start_time": "2023-07-22T14:20:03.691901400Z"
    }
   },
   "outputs": [
    {
     "name": "stdout",
     "output_type": "stream",
     "text": [
      "Количество фильмов, оставшихся после фильтрации: 4795\n"
     ]
    }
   ],
   "source": [
    "import pandas as pd\n",
    "\n",
    "df_credits = pd.read_csv('../datasets/tmdb_5000_credits.csv', low_memory=False)\n",
    "df_movies = pd.read_csv('../datasets/tmdb_5000_movies.csv', low_memory=False)\n",
    "\n",
    "#Объединяем df\n",
    "df = df_credits.merge(df_movies, left_on=['movie_id', 'title'], right_on=['id', 'title'], how='inner')\n",
    "\n",
    "#Удаление дублирующей колонки\n",
    "df.drop(columns='id', inplace=True)\n",
    "\n",
    "#Оставляем только фильмы, вышедшие в релиз.\n",
    "df = df[df.status == 'Released']\n",
    "print(f\"Количество фильмов, оставшихся после фильтрации: {df.shape[0]}\")"
   ]
  },
  {
   "cell_type": "markdown",
   "metadata": {},
   
  {
   "cell_type": "code",
   "execution_count": 2,
   "metadata": {
    "ExecuteTime": {
     "end_time": "2023-07-22T14:20:04.814233700Z",
     "start_time": "2023-07-22T14:20:04.775660400Z"
    }
   },
   "outputs": [],
   "source": [
    "# Функция расчёта рейтинга IMDB\n",
    "def weighted_rating(row):\n",
    "    v = row['vote_count']\n",
    "    r = row['vote_average']\n",
    "    wr = v / (v + m) * r + m / (v + m) * c\n",
    "    return wr"
   ]
  },
  {
   "cell_type": "code",
   "execution_count": 3,
   "metadata": {
    "ExecuteTime": {
     "end_time": "2023-07-22T14:20:04.866193900Z",
     "start_time": "2023-07-22T14:20:04.789237500Z"
    }
   },
   "outputs": [
    {
     "name": "stdout",
     "output_type": "stream",
     "text": [
      "Топ-5 фильмов:\n",
      "The Shawshank Redemption, The Dark Knight, Fight Club, Inception, Pulp Fiction\n"
     ]
    }
   ],
   "source": [
    "# Cредняя оценка всех фильмов\n",
    "c = (df['vote_average']).mean()\n",
    "\n",
    "# Количество голосов для включения в финальную таблицу\n",
    "m = df['vote_count'].quantile (.95)\n",
    "\n",
    "# Запускаем функцию расчёта рейтинга IMDB для каждого фильма \n",
    "df['simple_score'] = df.apply(weighted_rating, axis=1)\n",
    "\n",
    "# Сортируем датафрейм по рейтингу\n",
    "df = df.sort_values(by = ['simple_score'], ascending=False)\n",
    "\n",
    "# Топ-5 фильмов по рейтингу\n",
    "top_5 = list(df[:5]['title'])\n",
    "\n",
    "print('Топ-5 фильмов:')\n",
    "print(*top_5, sep = ', ')"
   ]
  },
  {
   "cell_type": "markdown",
   "metadata": {},
   "source": [
   
  {
   "cell_type": "code",
   "execution_count": 4,
   "metadata": {
    "ExecuteTime": {
     "end_time": "2023-07-22T14:20:06.821573400Z",
     "start_time": "2023-07-22T14:20:04.868193Z"
    }
   },
   "outputs": [
    {
     "name": "stdout",
     "output_type": "stream",
     "text": [
      "Размер матрицы Tf-Idf: (4795, 20970)\n"
     ]
    }
   ],
   "source": [
    "from sklearn.feature_extraction.text import TfidfVectorizer\n",
    "\n",
    "#Замена NaN на '' в столбце с описанием фильма\n",
    "df['overview'] = df['overview'].fillna('')\n",
    "\n",
    "# Исключение неинформотивных слов, редковстречающихся слов, небуквенных символов, привидение текста к нижнему регистру.\n",
    "# Векторизируем столбец с описанием фильма\n",
    "vectorizer = TfidfVectorizer(stop_words='english')\n",
    "tf_idf = vectorizer.fit_transform(df['overview'])\n",
    "\n",
    "print('Размер матрицы Tf-Idf:', tf_idf.shape)"
   ]
  },
  {
   "cell_type": "markdown",
   "metadata": {},
   "source": [
    "## Задание 4"
   ]
  },
  {
   "cell_type": "markdown",
   "metadata": {},
   "source": [
    "Теперь тебе необходимо вычислить показатель сходства между описаниями фильмов. Используем косинусное расстояние, оно рассчитывается по формуле:\n",
    "$$cos(Θ) = \\frac{A ⋅ B}{∥A∥ ∥B∥} = \\frac{ Σ_{i=1}^{n} A_i ⋅ B_i } { \\sqrt{Σ_{i=1}^{n}A_{i}^{2}} ⋅ {\\sqrt{Σ_{i=1}^{n}B_{i}^{2}}}}$$\n",
    "Но поскольку мы использовали векторизатор TF-IDF на предыдущем шаге, достаточно вычислить скалярное произведение, которое и даст оценку косинусного сходства. Рассчитать его можно через [linear_kernel](https://scikit-learn.org/stable/modules/generated/sklearn.metrics.pairwise.linear_kernel.html). Результат сохрани в переменную `cosine_sim`.\n",
    "\n",
    "Выведи размер получившейся матрицы `cosine_sim`."
   ]
  },
  {
   "cell_type": "code",
   "execution_count": 5,
   "metadata": {
    "ExecuteTime": {
     "end_time": "2023-07-22T14:20:07.258198700Z",
     "start_time": "2023-07-22T14:20:06.822573700Z"
    }
   },
   "outputs": [
    {
     "name": "stdout",
     "output_type": "stream",
     "text": [
      "Размер матрицы cosine_sim: (4795, 4795)\n"
     ]
    }
   ],
   "source": [
    "from sklearn.metrics.pairwise import linear_kernel\n",
    "\n",
    "# Оценка косинусного сходства\n",
    "cosine_sim = linear_kernel(tf_idf)\n",
    "\n",
    "print('Размер матрицы cosine_sim:', cosine_sim.shape)"
   ]
  },
  {
   "cell_type": "markdown",
   "metadata": {},
   "source": [
    "## Задание 5"
   ]
  },
  {
   "cell_type": "markdown",
   "metadata": {},
   "source": [
    "Напиши функцию `get_recommendations`. На вход она принимает:\n",
    "* `movies_dataset` - датасет фильмов\n",
    "* `title` - название фильма, для которого мы будем искать похожие\n",
    "* `cosine_sim` - матрица расстояний между описаниями\n",
    "* `top_k` - топ-k cхожих фильмов\n",
    "\n",
    "Возвращает top_k названий фильмов, описание которых похоже на выбранный фильм.\\\n",
    "Выведи топ-5 фильмов для `title='Saving Private Ryan'`"
   ]
  },
  {
   "cell_type": "code",
   "execution_count": 6,
   "metadata": {
    "ExecuteTime": {
     "end_time": "2023-07-22T14:20:07.267192700Z",
     "start_time": "2023-07-22T14:20:07.256198300Z"
    }
   },
   "outputs": [],
   "source": [
    "#Функция поиска схожих фильмов по описанию\n",
    "def get_recommendations(movies_dataset, title, cosine_sim, top_k=10):\n",
    "    \n",
    "    #Получаем индекс выбранного фильма\n",
    "    movie_index = movies_dataset[movies_dataset['title']==title].index[0]\n",
    "    \n",
    "    #Косинусное расстояние до выбранного фильма\n",
    "    distances = cosine_sim[movie_index]\n",
    "    \n",
    "    #Список фильмов отсортированный по сходству фильмов с выбранным фильмом\n",
    "    movies_list = sorted(list(enumerate(distances)), reverse=True, key=lambda x:x[1])[1:top_k+1]\n",
    "    \n",
    "    #Выводим названия фильмов наиболее похожих по описанию на выбранный фильм\n",
    "    print(f\"Топ-{top_k} фильмов, схожих по описанию с фильмом {title}:\")\n",
    "    for i in movies_list:\n",
    "        print(movies_dataset.iloc[i[0]].title)"
   ]
  },
  {
   "cell_type": "code",
   "execution_count": 7,
   "metadata": {
    "ExecuteTime": {
     "end_time": "2023-07-22T14:20:07.348145500Z",
     "start_time": "2023-07-22T14:20:07.261197600Z"
    }
   },
   "outputs": [
    {
     "name": "stdout",
     "output_type": "stream",
     "text": [
      "Топ-5 фильмов, схожих по описанию с фильмом Saving Private Ryan:\n",
      "The Great Raid\n",
      "The Monuments Men\n",
      "The Expendables 2\n",
      "Abandoned\n",
      "The Train\n"
     ]
    }
   ],
   "source": [
    "#Датасет с названием и описанием фильмов\n",
    "dataset = df[['title', 'overview']]\n",
    "#Сброс индекс, задаём список от 0\n",
    "dataset.reset_index(drop= True , inplace= True )\n",
    "\n",
    "#Заупскаем функцию поиска схожих фильмов по описанию для фильма Saving Private Ryan\n",
    "similar_films = get_recommendations(movies_dataset=dataset, title='Saving Private Ryan', cosine_sim=cosine_sim, top_k=5)"
   ]
  },
  {
   "cell_type": "markdown",
   "metadata": {},
   "source": [
    "## Задание 6"
   ]
  },
  {
   "cell_type": "markdown",
   "metadata": {},
   "source": [
    "Еще один подход к построению рекомендательной системы - подход на основе сходства между пользователями. Этот подход называется **Collaborative Filtering** (Коллаборативная фильтрация).\n",
    "<center><img src=\"../misc/images/all.png\" alt= “” width=\"600\" height=\"700\"></center>\n",
    "Коллаборативная фильтрация - это тип рекомендательной системы, которая использует поведение и предпочтения похожих пользователей для рекомендации товаров или продуктов конкретному пользователю. Система собирает данные о прошлом поведении пользователей, такие как покупки, рейтинги и отзывы, и анализирует их для выявления закономерностей и сходства между пользователями. На основе этих закономерностей система рекомендует товары, которые понравились или были приобретены другими такими же пользователями в прошлом.\n",
    "\n",
    "Для реализации Коллаборативной фильтрации нам потребуются оценки пользователей [ratings](../datasets/ratings.csv).\n",
    "\n",
    ">userId - id пользователя \\\n",
    "movieId - id фильма \\\n",
    "rating - оценка фильма (от 0 до 5)\\\n",
    "timestamp - время оценки\n",
    "\n",
    "\n",
    "Воспользуйся библиотекой [surprise](https://surpriselib.com/) для обучения модели оценки рейтинга фильма [SVD](https://surprise.readthedocs.io/en/stable/matrix_factorization.html#surprise.prediction_algorithms.matrix_factorization.SVD). Выведи средние значения 'RMSE', 'MAE' на кросс-валидации с параметрами `cv=5`."
   ]
  },
  {
   "cell_type": "code",
   "execution_count": 8,
   "metadata": {
    "ExecuteTime": {
     "end_time": "2023-07-22T14:20:07.359140100Z",
     "start_time": "2023-07-22T14:20:07.291179100Z"
    }
   },
   "outputs": [],
   "source": [
    "# conda install -c conda-forge scikit-surprise - для установки библиотеки"
   ]
  },
  {
   "cell_type": "code",
   "execution_count": 9,
   "metadata": {
    "ExecuteTime": {
     "end_time": "2023-07-22T14:20:13.987844300Z",
     "start_time": "2023-07-22T14:20:07.306170400Z"
    }
   },
   "outputs": [
    {
     "name": "stdout",
     "output_type": "stream",
     "text": [
      "Evaluating RMSE, MAE of algorithm SVD on 5 split(s).\n",
      "\n",
      "                  Fold 1  Fold 2  Fold 3  Fold 4  Fold 5  Mean    Std     \n",
      "RMSE (testset)    0.8970  0.8976  0.8998  0.8909  0.8983  0.8967  0.0030  \n",
      "MAE (testset)     0.6907  0.6898  0.6962  0.6868  0.6894  0.6906  0.0031  \n",
      "Fit time          1.03    1.02    0.99    0.96    0.96    0.99    0.03    \n",
      "Test time         0.12    0.20    0.12    0.19    0.12    0.15    0.04    \n",
      "\n",
      "Среднее значение 'RMSE': 0.8967\n",
      "Среднее значение 'MAE': 0.6906\n"
     ]
    }
   ],
   "source": [
    "import pandas as pd\n",
    "import numpy as np\n",
    "\n",
    "from surprise import Dataset, NormalPredictor, Reader, SVD\n",
    "from surprise.model_selection import cross_validate\n",
    "\n",
    "df_ratings = pd.read_csv('../datasets/ratings.csv', low_memory=False)\n",
    "\n",
    "\n",
    "# Шкала рейтинга (от 0 до 5)\n",
    "reader = Reader(rating_scale=(0, 5))\n",
    "\n",
    "# Загружаем датасет из dataframe pandas, указываем три столбца: id пользователя, id предмета оценки и оценка.\n",
    "data = Dataset.load_from_df(df_ratings[[\"userId\", \"movieId\", \"rating\"]], reader)\n",
    "\n",
    "# Используем SVD алгоритм (сингулярное разложении матриц).\n",
    "algo = SVD()\n",
    "\n",
    "# Запустим пятикратную перекрестную проверку и выведем результат.\n",
    "cross_valid = cross_validate(algo, data, measures=['RMSE', 'MAE'], cv=5, verbose=True)\n",
    "\n",
    "# RMSE - Root Mean Squared Error Среднеквадратичная ошибка\n",
    "# MAE - Mean Absolute Error Средняя абсолютная ошибка\n",
    "print(\"\\nСреднее значение 'RMSE':\", round(np.mean(cross_valid['test_rmse']), 4))\n",
    "print(\"Среднее значение 'MAE':\", round(np.mean(cross_valid['test_mae']), 4))"
   ]
  },
  {
   "cell_type": "code",
   "execution_count": 9,
   "metadata": {
    "ExecuteTime": {
     "end_time": "2023-07-22T14:20:14.001896100Z",
     "start_time": "2023-07-22T14:20:13.988844100Z"
    }
   },
   "outputs": [],
   "source": []
  }
 ],
 "metadata": {
  "colab": {
   "provenance": [],
   "toc_visible": true
  },
  "kernelspec": {
   "display_name": "Python 3 (ipykernel)",
   "language": "python",
   "name": "python3"
  },
  "language_info": {
   "codemirror_mode": {
    "name": "ipython",
    "version": 3
   },
   "file_extension": ".py",
   "mimetype": "text/x-python",
   "name": "python",
   "nbconvert_exporter": "python",
   "pygments_lexer": "ipython3",
   "version": "3.11.3"
  }
 },
 "nbformat": 4,
 "nbformat_minor": 4
}
